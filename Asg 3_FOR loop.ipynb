{
 "cells": [
  {
   "cell_type": "code",
   "execution_count": null,
   "id": "ff5e214b-4205-4b11-9e15-7bf082e0a809",
   "metadata": {},
   "outputs": [],
   "source": [
    "# Basic Q.1 Write a Python program to print the numbers from 1 to 10 using a `for` loop."
   ]
  },
  {
   "cell_type": "code",
   "execution_count": 1,
   "id": "87a4f0f5-4fa5-4245-b90f-12f9ccdb31aa",
   "metadata": {},
   "outputs": [
    {
     "name": "stdout",
     "output_type": "stream",
     "text": [
      "1\n",
      "2\n",
      "3\n",
      "4\n",
      "5\n",
      "6\n",
      "7\n",
      "8\n",
      "9\n",
      "10\n"
     ]
    }
   ],
   "source": [
    "for number in range(1, 11):\n",
    "    print(number)"
   ]
  },
  {
   "cell_type": "code",
   "execution_count": 2,
   "id": "85b588ee-8f40-49eb-855f-6f9ef15fc680",
   "metadata": {},
   "outputs": [],
   "source": [
    "# Basic Q.2  Create a program that calculates the sum of all numbers in a list using a `for` loop."
   ]
  },
  {
   "cell_type": "code",
   "execution_count": 3,
   "id": "fa4007ad-1028-42a3-95a6-1cd0029d41fe",
   "metadata": {},
   "outputs": [
    {
     "name": "stdout",
     "output_type": "stream",
     "text": [
      "The sum of list is: 15\n"
     ]
    }
   ],
   "source": [
    "list = [1, 2, 3, 4, 5]\n",
    "total_sum = 0\n",
    "\n",
    "for number in list:\n",
    "    total_sum += number\n",
    "\n",
    "print(\"The sum of list is:\", total_sum)"
   ]
  },
  {
   "cell_type": "code",
   "execution_count": 4,
   "id": "caa154e4-b982-48a0-9b4f-1fcdce6fdf69",
   "metadata": {},
   "outputs": [],
   "source": [
    "# Basic Q.3 Write a program to print the characters of a string in reverse order using a `for` loop."
   ]
  },
  {
   "cell_type": "code",
   "execution_count": 5,
   "id": "9d1e9ac9-a9f8-47b7-aaee-ba737df70110",
   "metadata": {},
   "outputs": [
    {
     "name": "stdin",
     "output_type": "stream",
     "text": [
      "enter a string: divya\n"
     ]
    },
    {
     "name": "stdout",
     "output_type": "stream",
     "text": [
      "Reversed string: ayvid\n"
     ]
    }
   ],
   "source": [
    "a = input(\"enter a string:\")\n",
    "reversed_string = \"\"\n",
    "for i in range(len(a) -1, -1, -1):\n",
    "    reversed_string += a[i]\n",
    "print(\"Reversed string:\", reversed_string) "
   ]
  },
  {
   "cell_type": "code",
   "execution_count": null,
   "id": "31a5501a-baec-46ef-a1d2-1896b2241958",
   "metadata": {},
   "outputs": [],
   "source": [
    "# Basic Q.4 Develop a program that finds the factorial of a given number using a `for` loop."
   ]
  },
  {
   "cell_type": "code",
   "execution_count": 6,
   "id": "a1c1880e-6629-4d36-ba68-156f1ece831e",
   "metadata": {},
   "outputs": [
    {
     "name": "stdin",
     "output_type": "stream",
     "text": [
      "enter the number:  16\n"
     ]
    },
    {
     "name": "stdout",
     "output_type": "stream",
     "text": [
      "the factorial of 16 is 20922789888000\n"
     ]
    }
   ],
   "source": [
    "n = int(input(\"enter the number: \"))\n",
    "factorial = 1\n",
    "for i in range(1, n+1):\n",
    "    factorial *= i\n",
    "print(f\"the factorial of {n} is {factorial}\")"
   ]
  },
  {
   "cell_type": "code",
   "execution_count": 7,
   "id": "40a6f0a9-3d1c-4c34-9b9b-4677965ae9e9",
   "metadata": {},
   "outputs": [],
   "source": [
    "# Basic Q.5  Create a program to print the multiplication table of a given number using a `for` loop"
   ]
  },
  {
   "cell_type": "code",
   "execution_count": 8,
   "id": "5868d290-4bad-4b4a-ae2d-9d45072e34b9",
   "metadata": {},
   "outputs": [
    {
     "name": "stdin",
     "output_type": "stream",
     "text": [
      "enter a number:  12\n"
     ]
    },
    {
     "name": "stdout",
     "output_type": "stream",
     "text": [
      "multiplication table for 12:\n",
      "12 x 1 = 12\n",
      "12 x 2 = 24\n",
      "12 x 3 = 36\n",
      "12 x 4 = 48\n",
      "12 x 5 = 60\n",
      "12 x 6 = 72\n",
      "12 x 7 = 84\n",
      "12 x 8 = 96\n",
      "12 x 9 = 108\n",
      "12 x 10 = 120\n"
     ]
    }
   ],
   "source": [
    "str = int(input(\"enter a number: \"))\n",
    "start = 1\n",
    "end = 10\n",
    "print(f\"multiplication table for {str}:\")\n",
    "for i in range(start, end + 1):\n",
    "    result = str*i\n",
    "    print(f\"{str} x {i} = {result}\")"
   ]
  },
  {
   "cell_type": "code",
   "execution_count": 9,
   "id": "11418db9-50a6-4e3e-bb86-b28c95489c0b",
   "metadata": {},
   "outputs": [],
   "source": [
    "# Basic Q.6 Write a program that counts the number of even and odd numbers in a list using a `for` loop."
   ]
  },
  {
   "cell_type": "code",
   "execution_count": 10,
   "id": "569f83c9-bb18-4d28-a3c2-2185d668eeaf",
   "metadata": {},
   "outputs": [
    {
     "name": "stdout",
     "output_type": "stream",
     "text": [
      "number of even numbers: 5\n",
      "number of odd numbers: 5\n"
     ]
    }
   ],
   "source": [
    "d = [11,12,13,14,15,16,17,18,19,20]\n",
    "even_count = 0\n",
    "odd_count = 0\n",
    "for number in d:\n",
    "    if number % 2 == 0:\n",
    "        even_count += 1\n",
    "    else:\n",
    "        odd_count += 1\n",
    "print(\"number of even numbers:\", even_count)\n",
    "print(\"number of odd numbers:\", odd_count)"
   ]
  },
  {
   "cell_type": "code",
   "execution_count": null,
   "id": "3ea130ca-91df-4d9c-8c81-5b518195eab7",
   "metadata": {},
   "outputs": [],
   "source": [
    "# Basic Q.7 Develop a program that prints the squares of numbers from 1 to 5 using a `for` loop."
   ]
  },
  {
   "cell_type": "code",
   "execution_count": 11,
   "id": "8435ce80-9a26-4a19-bacf-a20a396a4ca0",
   "metadata": {},
   "outputs": [
    {
     "name": "stdout",
     "output_type": "stream",
     "text": [
      "The square of 1 is 1\n",
      "The square of 2 is 4\n",
      "The square of 3 is 9\n",
      "The square of 4 is 16\n",
      "The square of 5 is 25\n",
      "The square of 6 is 36\n",
      "The square of 7 is 49\n"
     ]
    }
   ],
   "source": [
    "for number in range(1, 8):\n",
    "    square = number ** 2\n",
    "    print(f\"The square of {number} is {square}\")"
   ]
  },
  {
   "cell_type": "code",
   "execution_count": 12,
   "id": "2f0a5e64-daea-488b-a071-82ca8fb2bceb",
   "metadata": {},
   "outputs": [],
   "source": [
    "# Basic Q.8 Create a program to find the length of a string without using the `len()` function."
   ]
  },
  {
   "cell_type": "code",
   "execution_count": 13,
   "id": "7364552c-5e89-40be-afc0-8b304235f6f1",
   "metadata": {},
   "outputs": [
    {
     "name": "stdin",
     "output_type": "stream",
     "text": [
      "Enter a string:  Trust is the base of any relation.\n"
     ]
    },
    {
     "name": "stdout",
     "output_type": "stream",
     "text": [
      "The length of the string is: 34\n"
     ]
    }
   ],
   "source": [
    "str = input(\"Enter a string: \")\n",
    "# Initialize a count to keep track of the length\n",
    "count = 0\n",
    "for char in str:\n",
    "    count += 1\n",
    "print(f\"The length of the string is: {count}\")"
   ]
  },
  {
   "cell_type": "code",
   "execution_count": 14,
   "id": "f86f7126-5524-4978-a25d-e1ad7eee387c",
   "metadata": {},
   "outputs": [],
   "source": [
    "# Basic Q.9 Write a program that calculates the average of a list of numbers using a `for` loop."
   ]
  },
  {
   "cell_type": "code",
   "execution_count": 15,
   "id": "1307f914-d482-4ec4-a0ac-9525f571c915",
   "metadata": {},
   "outputs": [
    {
     "name": "stdout",
     "output_type": "stream",
     "text": [
      "The average of the numbers is: 35.0\n"
     ]
    }
   ],
   "source": [
    "numbers = [10, 20, 30, 40, 50, 60]\n",
    "\n",
    "# Initialize variables for the sum and count\n",
    "total = 0\n",
    "count = 0\n",
    "\n",
    "# Calculate the sum of the numbers\n",
    "for number in numbers:\n",
    "    total += number\n",
    "    count += 1\n",
    "\n",
    "# Calculate the average\n",
    "if count > 0:\n",
    "    average = total / count\n",
    "    print(\"The average of the numbers is:\", average)\n",
    "else:\n",
    "    print(\"The list is empty, and the average cannot be calculated.\")"
   ]
  },
  {
   "cell_type": "code",
   "execution_count": 16,
   "id": "3c2aa005-8529-4f29-b6bb-a423f67361e3",
   "metadata": {},
   "outputs": [],
   "source": [
    "# Basic Q.10 Develop a program that prints the first `n` Fibonacci numbers using a `for` loop."
   ]
  },
  {
   "cell_type": "code",
   "execution_count": 17,
   "id": "ab85ddd9-3f24-4d11-b2e1-bdb32d2bba0b",
   "metadata": {},
   "outputs": [
    {
     "name": "stdin",
     "output_type": "stream",
     "text": [
      "Enter the number of Fibonacci numbers to generate:  5\n"
     ]
    },
    {
     "name": "stdout",
     "output_type": "stream",
     "text": [
      "The first 5 Fibonacci numbers are:\n",
      "0 1 1 2 3 "
     ]
    }
   ],
   "source": [
    "n = int(input(\"Enter the number of Fibonacci numbers to generate: \"))\n",
    "\n",
    "# Initialize the first two Fibonacci numbers\n",
    "fibonacci_sequence = [0, 1]\n",
    "# Generate the Fibonacci sequence using a for loop\n",
    "for i in range(2, n):\n",
    "    next_fibonacci = fibonacci_sequence[i - 1] + fibonacci_sequence[i - 2]\n",
    "    fibonacci_sequence.append(next_fibonacci)\n",
    "\n",
    "# Print the first n Fibonacci numbers\n",
    "print(f\"The first {n} Fibonacci numbers are:\")\n",
    "for number in fibonacci_sequence[:n]:\n",
    "    print(number, end=\" \")"
   ]
  },
  {
   "cell_type": "code",
   "execution_count": null,
   "id": "2eccf099-fb4f-442c-882d-aec84fa10b8a",
   "metadata": {},
   "outputs": [],
   "source": []
  },
  {
   "cell_type": "code",
   "execution_count": 19,
   "id": "66b738df-c0ee-44bf-8cd4-4b730aa80d0b",
   "metadata": {},
   "outputs": [],
   "source": [
    "# Intermediate Q.11 Write a program to check if a given list contains any duplicates using a `for` loop."
   ]
  },
  {
   "cell_type": "code",
   "execution_count": 18,
   "id": "08af0a59-5d2a-4fc3-a272-860a7acc91b8",
   "metadata": {},
   "outputs": [
    {
     "name": "stdout",
     "output_type": "stream",
     "text": [
      "The list contains duplicates.\n"
     ]
    }
   ],
   "source": [
    "numbers = [1, 2, 3, 4, 2, 5, 6, 7]\n",
    "has_duplicates = False\n",
    "\n",
    "for i in range(len(numbers)):\n",
    "    for j in range(i + 1, len(numbers)):\n",
    "        if numbers[i] == numbers[j]:\n",
    "            has_duplicates = True\n",
    "            break\n",
    "\n",
    "if has_duplicates:\n",
    "    print(\"The list contains duplicates.\")\n",
    "else:\n",
    "    print(\"The list does not contain duplicates.\")"
   ]
  },
  {
   "cell_type": "code",
   "execution_count": null,
   "id": "be725607-ee06-4707-a555-0521eb3dd74c",
   "metadata": {},
   "outputs": [],
   "source": [
    "# Intermediate Q.12 Create a program that prints the prime numbers in a given range using a `for` loop."
   ]
  },
  {
   "cell_type": "code",
   "execution_count": 20,
   "id": "4ebc048d-b6b1-4732-bcf2-5fe210cbf205",
   "metadata": {},
   "outputs": [
    {
     "name": "stdin",
     "output_type": "stream",
     "text": [
      "Enter the start of the range:  1\n",
      "Enter the end of the range:  50\n"
     ]
    },
    {
     "name": "stdout",
     "output_type": "stream",
     "text": [
      "Prime numbers in the range from 1 to 50:\n",
      "2\n",
      "3\n",
      "5\n",
      "7\n",
      "11\n",
      "13\n",
      "17\n",
      "19\n",
      "23\n",
      "29\n",
      "31\n",
      "37\n",
      "41\n",
      "43\n",
      "47\n"
     ]
    }
   ],
   "source": [
    "start = int(input(\"Enter the start of the range: \"))\n",
    "end = int(input(\"Enter the end of the range: \"))\n",
    "\n",
    "# Initialize a list to store prime numbers\n",
    "prime_numbers = []\n",
    "\n",
    "# Use a for loop to check for prime numbers in the range\n",
    "for num in range(start, end + 1):\n",
    "    if num > 1:  # Prime numbers are greater than 1\n",
    "        is_prime = True\n",
    "        for i in range(2, int(num**0.5) + 1):\n",
    "            if num % i == 0:\n",
    "                is_prime = False\n",
    "                break\n",
    "        if is_prime:\n",
    "            prime_numbers.append(num)\n",
    "\n",
    "# Print the prime numbers\n",
    "print(f\"Prime numbers in the range from {start} to {end}:\")\n",
    "for prime in prime_numbers:\n",
    "    print(prime)"
   ]
  },
  {
   "cell_type": "code",
   "execution_count": 21,
   "id": "5a929e14-ec71-4f35-8239-c24cbd17eb0f",
   "metadata": {},
   "outputs": [],
   "source": [
    "# Intermediate Q.13 Develop a program that counts the number of vowels in a string using a `for` loop."
   ]
  },
  {
   "cell_type": "code",
   "execution_count": 22,
   "id": "dff0bb34-78f2-40be-8f95-4e9d299739cb",
   "metadata": {},
   "outputs": [
    {
     "name": "stdin",
     "output_type": "stream",
     "text": [
      "Enter a string:  environment\n"
     ]
    },
    {
     "name": "stdout",
     "output_type": "stream",
     "text": [
      "Number of vowels in the string: 4\n"
     ]
    }
   ],
   "source": [
    "input_string = input(\"Enter a string: \")\n",
    "\n",
    "input_string = input_string.lower()\n",
    "\n",
    "vowel_count = 0\n",
    "\n",
    "vowels = \"aeiou\"\n",
    "\n",
    "for char in input_string:\n",
    "    if char in vowels:\n",
    "        vowel_count += 1\n",
    "print(\"Number of vowels in the string:\", vowel_count)"
   ]
  },
  {
   "cell_type": "code",
   "execution_count": 23,
   "id": "8b1d4399-e186-49bb-94f6-85e5e54b90ea",
   "metadata": {},
   "outputs": [],
   "source": [
    "# Intermediate Q.14 Write a program to find the maximum element in a 2D list using a nested `for` loop."
   ]
  },
  {
   "cell_type": "code",
   "execution_count": 24,
   "id": "846657ad-279e-43d1-aeab-9faade9824ad",
   "metadata": {},
   "outputs": [
    {
     "name": "stdin",
     "output_type": "stream",
     "text": [
      "Enter the number of rows:  2\n",
      "Enter the number of columns:  2\n",
      "Enter the element at position (1,1):  17\n",
      "Enter the element at position (1,2):  6\n",
      "Enter the element at position (2,1):  16\n",
      "Enter the element at position (2,2):  11\n"
     ]
    },
    {
     "name": "stdout",
     "output_type": "stream",
     "text": [
      "Maximum element in the 2D list: 17\n"
     ]
    }
   ],
   "source": [
    "rows = int(input(\"Enter the number of rows: \"))\n",
    "cols = int(input(\"Enter the number of columns: \"))\n",
    "\n",
    "matrix = []\n",
    "for i in range(rows):\n",
    "    row = []\n",
    "    for j in range(cols):\n",
    "        element = int(input(f\"Enter the element at position ({i+1},{j+1}): \"))\n",
    "        row.append(element)\n",
    "    matrix.append(row)\n",
    "\n",
    "max_element = matrix[0][0]\n",
    "\n",
    "for row in matrix:\n",
    "    for element in row:\n",
    "        if element > max_element:\n",
    "            max_element = element\n",
    "\n",
    "print(\"Maximum element in the 2D list:\", max_element)"
   ]
  },
  {
   "cell_type": "code",
   "execution_count": 25,
   "id": "3cb01945-c573-4728-bfe2-39cff516f51a",
   "metadata": {},
   "outputs": [],
   "source": [
    "#Intermediate Q.15 Create a program that removes all occurrences of a specific element from a list using a `for` loop."
   ]
  },
  {
   "cell_type": "code",
   "execution_count": 26,
   "id": "5c9c8b4e-8619-4a30-a923-88d2a83f8135",
   "metadata": {},
   "outputs": [
    {
     "name": "stdin",
     "output_type": "stream",
     "text": [
      "Enter the element to remove:  3\n"
     ]
    },
    {
     "name": "stdout",
     "output_type": "stream",
     "text": [
      "List after removing all occurrences of 3 : [1, 2, 4, 5, 6, 7, 8, 9]\n"
     ]
    }
   ],
   "source": [
    "elements = [1, 2, 3, 4, 3, 5, 3, 6, 7, 8, 9]\n",
    "element_to_remove = int(input(\"Enter the element to remove: \"))\n",
    "\n",
    "for element in elements[:]: \n",
    "    if element == element_to_remove:\n",
    "        elements.remove(element)\n",
    "\n",
    "print(\"List after removing all occurrences of\", element_to_remove, \":\", elements)"
   ]
  },
  {
   "cell_type": "code",
   "execution_count": 27,
   "id": "e9293189-816b-42d2-b6f7-5f861e80bed2",
   "metadata": {},
   "outputs": [],
   "source": [
    "#Intermediate Q.16  Develop a program that generates a multiplication table for numbers from 1 to 5 using a nested `for` loop."
   ]
  },
  {
   "cell_type": "code",
   "execution_count": 31,
   "id": "731a730c-8ff3-4ffd-9df5-b32b466758a8",
   "metadata": {},
   "outputs": [
    {
     "name": "stdout",
     "output_type": "stream",
     "text": [
      "Multiplication table for 2:\n",
      "2 x 1 = 2\n",
      "2 x 2 = 4\n",
      "2 x 3 = 6\n",
      "2 x 4 = 8\n",
      "2 x 5 = 10\n",
      "2 x 6 = 12\n",
      "2 x 7 = 14\n",
      "2 x 8 = 16\n",
      "2 x 9 = 18\n",
      "2 x 10 = 20\n",
      "Multiplication table for 3:\n",
      "3 x 1 = 3\n",
      "3 x 2 = 6\n",
      "3 x 3 = 9\n",
      "3 x 4 = 12\n",
      "3 x 5 = 15\n",
      "3 x 6 = 18\n",
      "3 x 7 = 21\n",
      "3 x 8 = 24\n",
      "3 x 9 = 27\n",
      "3 x 10 = 30\n",
      "Multiplication table for 4:\n",
      "4 x 1 = 4\n",
      "4 x 2 = 8\n",
      "4 x 3 = 12\n",
      "4 x 4 = 16\n",
      "4 x 5 = 20\n",
      "4 x 6 = 24\n",
      "4 x 7 = 28\n",
      "4 x 8 = 32\n",
      "4 x 9 = 36\n",
      "4 x 10 = 40\n",
      "\n"
     ]
    }
   ],
   "source": [
    "start = 2\n",
    "end = 4\n",
    "for i in range(start, end + 1):\n",
    "    print(f\"Multiplication table for {i}:\")\n",
    "    for j in range(1, 11):  # Multiplication table from 1 to 10\n",
    "        result = i * j\n",
    "        print(f\"{i} x {j} = {result}\")\n",
    "print()  # Add a newline for separation"
   ]
  },
  {
   "cell_type": "code",
   "execution_count": 29,
   "id": "74dcda8b-7e9b-4fc2-80fa-49e1584f40d3",
   "metadata": {},
   "outputs": [],
   "source": [
    "#Intermediate Q.17 Write a program that converts a list of Fahrenheit temperatures to Celsius using a `for` loop."
   ]
  },
  {
   "cell_type": "code",
   "execution_count": 32,
   "id": "f4d4b1b6-cb45-4aee-82d5-e0451f6af5ee",
   "metadata": {},
   "outputs": [
    {
     "name": "stdout",
     "output_type": "stream",
     "text": [
      "Fahrenheit Temperatures: [32, 68, 86, 104]\n",
      "Celsius Temperatures: [0.0, 20.0, 30.0, 40.0]\n"
     ]
    }
   ],
   "source": [
    "fahrenheit_temperatures = [32, 68, 86, 104]\n",
    "celsius_temperatures = []\n",
    "\n",
    "for fahrenheit in fahrenheit_temperatures:\n",
    "    celsius = (fahrenheit - 32) * 5/9\n",
    "    celsius_temperatures.append(celsius)\n",
    "\n",
    "print(\"Fahrenheit Temperatures:\", fahrenheit_temperatures)\n",
    "print(\"Celsius Temperatures:\", celsius_temperatures)"
   ]
  },
  {
   "cell_type": "code",
   "execution_count": 33,
   "id": "8df89618-783e-45e2-b1a8-2f2d49799e65",
   "metadata": {},
   "outputs": [],
   "source": [
    "#Intermediate Q.18 Create a program to print the common elements from two lists using a `for` loop."
   ]
  },
  {
   "cell_type": "code",
   "execution_count": 34,
   "id": "177285c5-32f3-4971-9122-2c72a4c17a27",
   "metadata": {},
   "outputs": [
    {
     "name": "stdout",
     "output_type": "stream",
     "text": [
      "Common elements in the two lists: [3, 4, 5]\n"
     ]
    }
   ],
   "source": [
    "list1 = [1, 2, 3, 4, 5]\n",
    "list2 = [3, 4, 5, 6, 7]\n",
    "common_elements = []\n",
    "\n",
    "for element1 in list1:\n",
    "    for element2 in list2:\n",
    "        if element1 == element2:\n",
    "            common_elements.append(element1)\n",
    "print(\"Common elements in the two lists:\", common_elements)"
   ]
  },
  {
   "cell_type": "code",
   "execution_count": 35,
   "id": "4bdfa8ad-95ef-42ff-a792-0e2747e62147",
   "metadata": {},
   "outputs": [],
   "source": [
    "#Intermediate Q.19  Develop a program that prints the pattern of right-angled triangles using a `for` loop. Use ‘*’ to draw the pattern"
   ]
  },
  {
   "cell_type": "code",
   "execution_count": 36,
   "id": "412a0401-e161-46e3-9841-9c03e24924a7",
   "metadata": {},
   "outputs": [
    {
     "name": "stdin",
     "output_type": "stream",
     "text": [
      "Enter the number of rows for the right-angled triangle:  6\n"
     ]
    },
    {
     "name": "stdout",
     "output_type": "stream",
     "text": [
      "*\n",
      "**\n",
      "***\n",
      "****\n",
      "*****\n",
      "******\n"
     ]
    }
   ],
   "source": [
    "num_rows = int(input(\"Enter the number of rows for the right-angled triangle: \"))\n",
    "for i in range(1, num_rows + 1):\n",
    "    print('*' * i)"
   ]
  },
  {
   "cell_type": "code",
   "execution_count": 37,
   "id": "13d650a1-152e-4d8a-ab56-b4068d8f6de4",
   "metadata": {},
   "outputs": [],
   "source": [
    "#Intermediate Q.20 Write a program to find the greatest common divisor (GCD) of two numbers using a `for` loop."
   ]
  },
  {
   "cell_type": "code",
   "execution_count": 38,
   "id": "2ce7b142-4c6d-45ac-b620-8d47830547cc",
   "metadata": {},
   "outputs": [
    {
     "name": "stdin",
     "output_type": "stream",
     "text": [
      "Enter the first number:  22\n",
      "Enter the second number:  68\n"
     ]
    },
    {
     "name": "stdout",
     "output_type": "stream",
     "text": [
      "The greatest common divisor (GCD) of 22 and 68 is 2.\n"
     ]
    }
   ],
   "source": [
    "num1 = int(input(\"Enter the first number: \"))\n",
    "num2 = int(input(\"Enter the second number: \"))\n",
    "if num1 < num2:\n",
    "    smaller = num1\n",
    "else:\n",
    "    smaller = num2\n",
    "\n",
    "# Initialize a variable to store the GCD\n",
    "gcd = 1\n",
    "for i in range(1, smaller + 1):\n",
    "    if (num1 % i == 0) and (num2 % i == 0):\n",
    "        gcd = i\n",
    "print(f\"The greatest common divisor (GCD) of {num1} and {num2} is {gcd}.\")"
   ]
  },
  {
   "cell_type": "code",
   "execution_count": null,
   "id": "b3c917b7-6f7c-4f47-b068-e568a077b1bc",
   "metadata": {},
   "outputs": [],
   "source": []
  },
  {
   "cell_type": "code",
   "execution_count": 39,
   "id": "794c19d8-ae3b-42dc-982e-f9f94a09eeb3",
   "metadata": {},
   "outputs": [],
   "source": [
    "#advanced Q.21 Create a program that calculates the sum of the digits of numbers in a list using a list comprehension."
   ]
  },
  {
   "cell_type": "code",
   "execution_count": null,
   "id": "7ee03919-f231-42cc-a760-a06524052699",
   "metadata": {},
   "outputs": [],
   "source": [
    "#advanced Q.22 Write a program to find the prime factors of a given number using a `for` loop and list comprehension"
   ]
  },
  {
   "cell_type": "code",
   "execution_count": 50,
   "id": "d79b83fd-f3d3-4266-b152-f695c8bfce68",
   "metadata": {},
   "outputs": [
    {
     "name": "stdin",
     "output_type": "stream",
     "text": [
      "Enter a number:  25\n"
     ]
    },
    {
     "name": "stdout",
     "output_type": "stream",
     "text": [
      "Prime factors of 25 are: [5]\n"
     ]
    }
   ],
   "source": [
    "def is_prime(number):\n",
    "    if number < 2:\n",
    "        return False\n",
    "    for i in range(2, int(number**0.5) + 1):\n",
    "        if number % i == 0:\n",
    "            return False\n",
    "    return True\n",
    "\n",
    "def prime_factors(n):\n",
    "    factors = [factor for factor in range(2, n + 1) if n % factor == 0 and is_prime(factor)]\n",
    "    return factors\n",
    "\n",
    "# Input number\n",
    "num = int(input(\"Enter a number: \"))\n",
    "\n",
    "if num < 2:\n",
    "    print(\"Prime factors are not applicable for numbers less than 2.\")\n",
    "else:\n",
    "    factors = prime_factors(num)\n",
    "    if len(factors) == 0:\n",
    "        print(f\"{num} is a prime number and has no prime factors.\")\n",
    "    else:\n",
    "        print(f\"Prime factors of {num} are: {factors}\")"
   ]
  },
  {
   "cell_type": "code",
   "execution_count": 1,
   "id": "786e965f-f078-47f1-a905-8b1086053854",
   "metadata": {},
   "outputs": [],
   "source": [
    "#advanced Q.23 Develop a program that extracts unique elements from a list and stores them in a new list using a list comprehension."
   ]
  },
  {
   "cell_type": "code",
   "execution_count": 2,
   "id": "e0d269fd-a861-4cad-8edd-8bc088dc80f6",
   "metadata": {},
   "outputs": [
    {
     "name": "stdout",
     "output_type": "stream",
     "text": [
      "Original List: [1, 2, 2, 3, 4, 4, 5, 6, 6]\n",
      "Unique Elements List: [1, 2, 3, 4, 5, 6]\n"
     ]
    }
   ],
   "source": [
    "input_list = [1, 2, 2, 3, 4, 4, 5, 6, 6]\n",
    "\n",
    "# Use a list comprehension to extract unique elements\n",
    "unique_elements = [x for i, x in enumerate(input_list) if x not in input_list[:i]]\n",
    "\n",
    "# Print the list of unique elements\n",
    "print(\"Original List:\", input_list)\n",
    "print(\"Unique Elements List:\", unique_elements)"
   ]
  },
  {
   "cell_type": "code",
   "execution_count": 3,
   "id": "7ddd2c70-68e1-4289-ba31-d82de68ae0b3",
   "metadata": {},
   "outputs": [],
   "source": [
    "#advanced Q.24 Create a program that generates a list of all palindromic numbers up to a specified limit using a list comprehension."
   ]
  },
  {
   "cell_type": "code",
   "execution_count": 4,
   "id": "ee162366-d9b1-4f7c-8aa6-f48c310dfbad",
   "metadata": {},
   "outputs": [
    {
     "name": "stdin",
     "output_type": "stream",
     "text": [
      "Enter the limit:  20\n"
     ]
    },
    {
     "name": "stdout",
     "output_type": "stream",
     "text": [
      "Palindromic Numbers up to 20 are: [1, 2, 3, 4, 5, 6, 7, 8, 9, 11]\n"
     ]
    }
   ],
   "source": [
    "def is_palindromic(number):\n",
    "    return str(number) == str(number)[::-1]\n",
    "\n",
    "# Input limit for generating palindromic numbers\n",
    "limit = int(input(\"Enter the limit: \"))\n",
    "\n",
    "# Use a list comprehension to generate palindromic numbers\n",
    "palindromic_numbers = [num for num in range(1, limit + 1) if is_palindromic(num)]\n",
    "\n",
    "print(\"Palindromic Numbers up to\", limit, \"are:\", palindromic_numbers)"
   ]
  },
  {
   "cell_type": "code",
   "execution_count": 5,
   "id": "dcc21a53-18eb-4bbc-9cf1-05d3bff8bbbf",
   "metadata": {},
   "outputs": [],
   "source": [
    "#advanced Q.25 Write a program to flatten a nested list using list comprehension."
   ]
  },
  {
   "cell_type": "code",
   "execution_count": 6,
   "id": "c4e133db-cda2-4d8b-843b-97969118ebfa",
   "metadata": {},
   "outputs": [
    {
     "name": "stdout",
     "output_type": "stream",
     "text": [
      "Nested List: [1, [2, 3], [4, [5, 6]], 7, [8]]\n",
      "Flattened List: [1, 2, 3, 4, [5, 6], 7, 8]\n"
     ]
    }
   ],
   "source": [
    "def flatten_list(nested_list):\n",
    "    return [item for sublist in nested_list for item in (sublist if isinstance(sublist, list) else [sublist])]\n",
    "\n",
    "# Example nested list\n",
    "nested_list = [1, [2, 3], [4, [5, 6]], 7, [8]]\n",
    "\n",
    "# Flatten the nested list\n",
    "flattened_list = flatten_list(nested_list)\n",
    "\n",
    "# Print the flattened list\n",
    "print(\"Nested List:\", nested_list)\n",
    "print(\"Flattened List:\", flattened_list)"
   ]
  },
  {
   "cell_type": "code",
   "execution_count": 7,
   "id": "a8c58381-ab51-4690-a698-340c7a81f076",
   "metadata": {},
   "outputs": [],
   "source": [
    "#advanced Q.26 Develop a program that computes the sum of even and odd numbers in a list separately using list comprehension."
   ]
  },
  {
   "cell_type": "code",
   "execution_count": 8,
   "id": "eb98fcdf-cc3c-4381-9a50-a16261bcfea1",
   "metadata": {},
   "outputs": [
    {
     "name": "stdout",
     "output_type": "stream",
     "text": [
      "List of Numbers: [1, 2, 3, 4, 5, 6, 7, 8, 9, 10]\n",
      "Sum of Even Numbers: 30\n",
      "Sum of Odd Numbers: 25\n"
     ]
    }
   ],
   "source": [
    "numbers = [1, 2, 3, 4, 5, 6, 7, 8, 9, 10]\n",
    "\n",
    "# Calculate the sum of even and odd numbers separately using list comprehensions\n",
    "even_sum = sum([num for num in numbers if num % 2 == 0])\n",
    "odd_sum = sum([num for num in numbers if num % 2 != 0])\n",
    "\n",
    "print(\"List of Numbers:\", numbers)\n",
    "print(\"Sum of Even Numbers:\", even_sum)\n",
    "print(\"Sum of Odd Numbers:\", odd_sum)"
   ]
  },
  {
   "cell_type": "code",
   "execution_count": 9,
   "id": "f862ca90-a6d3-4192-a4ec-2fbd21ebcb64",
   "metadata": {},
   "outputs": [],
   "source": [
    "#advanced Q.27  Create a program that generates a list of squares of odd numbers between 1 and 10 using list comprehension."
   ]
  },
  {
   "cell_type": "code",
   "execution_count": 10,
   "id": "4dfb81a1-1668-43f2-8279-dcbb3dee8a24",
   "metadata": {},
   "outputs": [
    {
     "name": "stdout",
     "output_type": "stream",
     "text": [
      "Squares of Odd Numbers between 1 and 10: [1, 9, 25, 49, 81]\n"
     ]
    }
   ],
   "source": [
    "# Generate a list of squares of odd numbers between 1 and 10 using list comprehension\n",
    "odd_squares = [x**2 for x in range(1, 11) if x % 2 != 0]\n",
    "\n",
    "print(\"Squares of Odd Numbers between 1 and 10:\", odd_squares)"
   ]
  },
  {
   "cell_type": "code",
   "execution_count": null,
   "id": "09f4f3e0-6d94-4172-9f8b-7b7b6ab06940",
   "metadata": {},
   "outputs": [],
   "source": [
    "#advanced Q.28 Write a program that combines two lists into a dictionary using list comprehension."
   ]
  },
  {
   "cell_type": "code",
   "execution_count": 12,
   "id": "22a787c4-7c0f-4fc1-98d0-d63a02da52f0",
   "metadata": {},
   "outputs": [
    {
     "name": "stdout",
     "output_type": "stream",
     "text": [
      "Combined Dictionary: {'a': 1, 'b': 2, 'c': 3, 'd': 4}\n"
     ]
    }
   ],
   "source": [
    "keys = [\"a\", \"b\", \"c\", \"d\"]\n",
    "values = [1, 2, 3, 4]\n",
    "\n",
    "# Combine the two lists into a dictionary using list comprehension\n",
    "combined_dict = {keys[i]: values[i] for i in range(len(keys))}\n",
    "\n",
    "print(\"Combined Dictionary:\", combined_dict)"
   ]
  },
  {
   "cell_type": "code",
   "execution_count": null,
   "id": "ab49fe06-fcf8-4451-a3d8-27e422578cea",
   "metadata": {},
   "outputs": [],
   "source": [
    "#advanced Q.29 Develop a program that extracts the vowels from a string and stores them in a list using list comprehension."
   ]
  },
  {
   "cell_type": "code",
   "execution_count": 13,
   "id": "0eba6401-8dc3-4e33-85dc-03ec347075d8",
   "metadata": {},
   "outputs": [
    {
     "name": "stdout",
     "output_type": "stream",
     "text": [
      "Original String: Hello, this is a sample string.\n",
      "Extracted Vowels: ['e', 'o', 'i', 'i', 'a', 'a', 'e', 'i']\n"
     ]
    }
   ],
   "source": [
    "input_string = \"Hello, this is a sample string.\"\n",
    "\n",
    "# Define a list of vowels\n",
    "vowels = \"AEIOUaeiou\"\n",
    "\n",
    "# Use list comprehension to extract vowels from the string\n",
    "vowel_list = [char for char in input_string if char in vowels]\n",
    "\n",
    "# Print the list of extracted vowels\n",
    "print(\"Original String:\", input_string)\n",
    "print(\"Extracted Vowels:\", vowel_list)"
   ]
  },
  {
   "cell_type": "code",
   "execution_count": 14,
   "id": "e9586f8b-34dd-4a90-8238-a54e6a656fa2",
   "metadata": {},
   "outputs": [],
   "source": [
    "#advanced Q.30 Create a program that removes all non-numeric characters from a list of strings using list comprehension."
   ]
  },
  {
   "cell_type": "code",
   "execution_count": 15,
   "id": "16e12cea-55c9-4fb7-9a50-bee6368bd603",
   "metadata": {},
   "outputs": [
    {
     "name": "stdout",
     "output_type": "stream",
     "text": [
      "Original List of Strings: ['abc123', '456xyz', '789', '10.5', 'string42']\n",
      "List with Non-Numeric Characters Removed: ['123', '456', '789', '105', '42']\n"
     ]
    }
   ],
   "source": [
    "# Input srings' list\n",
    "string_list = [\"abc123\", \"456xyz\", \"789\", \"10.5\", \"string42\"]\n",
    "\n",
    "# Use list comprehension to remove non-numeric characters from each string\n",
    "numeric_strings = [''.join(char for char in string if char.isdigit()) for string in string_list]\n",
    "\n",
    "# Print the new list of strings with non-numeric characters removed\n",
    "print(\"Original List of Strings:\", string_list)\n",
    "print(\"List with Non-Numeric Characters Removed:\", numeric_strings)"
   ]
  },
  {
   "cell_type": "code",
   "execution_count": null,
   "id": "5c2a504f-d9b8-4365-94df-bfc264e29d0a",
   "metadata": {},
   "outputs": [],
   "source": []
  },
  {
   "cell_type": "code",
   "execution_count": 16,
   "id": "692d27eb-d568-4535-8c42-2c1e7825eb05",
   "metadata": {},
   "outputs": [],
   "source": [
    "#challenge Q.32 Create a program that generates a list of all Pythagorean triplets up to a specified limit using list comprehension."
   ]
  },
  {
   "cell_type": "code",
   "execution_count": 17,
   "id": "b3c2d97d-e7b1-4841-b658-bac55e75a928",
   "metadata": {},
   "outputs": [
    {
     "name": "stdin",
     "output_type": "stream",
     "text": [
      "Enter the limit for generating Pythagorean triplets:  20\n"
     ]
    },
    {
     "name": "stdout",
     "output_type": "stream",
     "text": [
      "Pythagorean triplets up to 20 are:\n",
      "(3, 4, 5)\n",
      "(5, 12, 13)\n",
      "(6, 8, 10)\n",
      "(8, 15, 17)\n",
      "(9, 12, 15)\n",
      "(12, 16, 20)\n"
     ]
    }
   ],
   "source": [
    "def find_pythagorean_triplets(limit):\n",
    "    triplets = [(a, b, c) for a in range(1, limit + 1)\n",
    "                            for b in range(a, limit + 1)\n",
    "                            for c in range(b, limit + 1)\n",
    "                            if a**2 + b**2 == c**2]\n",
    "    return triplets\n",
    "\n",
    "limit = int(input(\"Enter the limit for generating Pythagorean triplets: \"))\n",
    "\n",
    "if limit < 3:\n",
    "    print(\"There are no Pythagorean triplets in the specified range.\")\n",
    "else:\n",
    "    pythagorean_triplets = find_pythagorean_triplets(limit)\n",
    "    print(\"Pythagorean triplets up to\", limit, \"are:\")\n",
    "    for triplet in pythagorean_triplets:\n",
    "        print(triplet)"
   ]
  },
  {
   "cell_type": "code",
   "execution_count": 18,
   "id": "c202cf29-1630-402b-ab91-09ffa7180d09",
   "metadata": {},
   "outputs": [],
   "source": [
    "#challenge Q.33 Develop a program that generates a list of all possible combinations of two lists using list comprehension."
   ]
  },
  {
   "cell_type": "code",
   "execution_count": 19,
   "id": "95616cd1-415c-407c-9d09-91df0001ae40",
   "metadata": {},
   "outputs": [
    {
     "name": "stdout",
     "output_type": "stream",
     "text": [
      "List 1: [17, 16, 11, 21]\n",
      "List 2: ['d', 'k', 'v', 's']\n",
      "Combinations: [(17, 'd'), (17, 'k'), (17, 'v'), (17, 's'), (16, 'd'), (16, 'k'), (16, 'v'), (16, 's'), (11, 'd'), (11, 'k'), (11, 'v'), (11, 's'), (21, 'd'), (21, 'k'), (21, 'v'), (21, 's')]\n"
     ]
    }
   ],
   "source": [
    "list1 = [17, 16, 11, 21]\n",
    "list2 = ['d', 'k', 'v', 's']\n",
    "\n",
    "combinations = [(x, y) for x in list1 for y in list2]\n",
    "\n",
    "print(\"List 1:\", list1)\n",
    "print(\"List 2:\", list2)\n",
    "print(\"Combinations:\", combinations)"
   ]
  },
  {
   "cell_type": "code",
   "execution_count": null,
   "id": "9840a8af-3956-4e4c-93cb-f3833fca1ae7",
   "metadata": {},
   "outputs": [],
   "source": [
    "#challenge Q.34  Write a program that calculates the mean, median, and mode of a list of numbers using list comprehension."
   ]
  },
  {
   "cell_type": "code",
   "execution_count": 20,
   "id": "399e3466-e208-43c4-be89-4d2f6e053739",
   "metadata": {},
   "outputs": [
    {
     "name": "stdout",
     "output_type": "stream",
     "text": [
      "List of Numbers: [1, 2.5, 3, 4.2, 5, 5, 6.2, 7, 8, 9.5]\n",
      "Mean: 5.14\n",
      "Median: 5.0\n",
      "Mode: 5\n"
     ]
    }
   ],
   "source": [
    "from statistics import mean, median, mode\n",
    "numbers = [1, 2.5, 3, 4.2, 5, 5, 6.2, 7, 8, 9.5]\n",
    "\n",
    "mean_value = mean(numbers)\n",
    "median_value = median(numbers)\n",
    "mode_value = mode(numbers)\n",
    "\n",
    "print(\"List of Numbers:\", numbers)\n",
    "print(\"Mean:\", mean_value)\n",
    "print(\"Median:\", median_value)\n",
    "print(\"Mode:\", mode_value)"
   ]
  },
  {
   "cell_type": "code",
   "execution_count": null,
   "id": "95589cc1-02ae-4740-a8c7-d0c2d4e9f805",
   "metadata": {},
   "outputs": [],
   "source": [
    "#challenge Q.35 Create a program that generates Pascal's triangle up to a specified number of rows using list comprehension."
   ]
  },
  {
   "cell_type": "code",
   "execution_count": 21,
   "id": "505a0c42-3006-4084-86ec-86b3feedeaf8",
   "metadata": {},
   "outputs": [
    {
     "name": "stdin",
     "output_type": "stream",
     "text": [
      "Enter the number of rows for Pascal's triangle:  4\n"
     ]
    },
    {
     "name": "stdout",
     "output_type": "stream",
     "text": [
      "     1      \n",
      "    1 1     \n",
      "   1 2 1    \n",
      "  1 3 3 1   \n"
     ]
    }
   ],
   "source": [
    "def generate_pascals_triangle(num_rows):\n",
    "    if num_rows <= 0:\n",
    "        return []\n",
    "\n",
    "    triangle = [[1]]\n",
    "\n",
    "    for _ in range(num_rows - 1):\n",
    "        prev_row = triangle[-1]\n",
    "        new_row = [1] + [prev_row[i] + prev_row[i + 1] for i in range(len(prev_row) - 1)] + [1]\n",
    "        triangle.append(new_row)\n",
    "\n",
    "    return triangle\n",
    "\n",
    "num_rows = int(input(\"Enter the number of rows for Pascal's triangle: \"))\n",
    "pascals_triangle = generate_pascals_triangle(num_rows)\n",
    "\n",
    "# Print Pascal's triangle\n",
    "for row in pascals_triangle:\n",
    "    print(\" \".join(map(str, row)).center(num_rows * 3))"
   ]
  },
  {
   "cell_type": "code",
   "execution_count": 22,
   "id": "fbc06ef6-eb43-447a-8995-9223179ca101",
   "metadata": {},
   "outputs": [],
   "source": [
    "# challenge Q.36 Develop a program that calculates the sum of the digits of a factorial of numbers from 1 to 5 using list comprehension."
   ]
  },
  {
   "cell_type": "code",
   "execution_count": 23,
   "id": "4cf5a551-2a76-4662-a2e0-615aff771a39",
   "metadata": {},
   "outputs": [
    {
     "name": "stdout",
     "output_type": "stream",
     "text": [
      "Sum of digits for 1! is 1\n",
      "Sum of digits for 2! is 2\n",
      "Sum of digits for 3! is 6\n"
     ]
    }
   ],
   "source": [
    "def factorial(n):\n",
    "    if n == 0:\n",
    "        return 1\n",
    "    else:\n",
    "        return n * factorial(n - 1)\n",
    "    \n",
    "digit_sums = [sum(int(digit) for digit in str(factorial(n))) for n in range(1, 4)]\n",
    "\n",
    "for n in range(1, 4):\n",
    "    print(f\"Sum of digits for {n}! is {digit_sums[n-1]}\")"
   ]
  },
  {
   "cell_type": "code",
   "execution_count": 24,
   "id": "7c5d8dff-1969-4c3f-b27b-d3fe27fee2ec",
   "metadata": {},
   "outputs": [],
   "source": [
    "#challenge Q.37 Write a program that finds the longest word in a sentence using list comprehension."
   ]
  },
  {
   "cell_type": "code",
   "execution_count": 25,
   "id": "0ba49ac2-1463-49bf-8786-fca5ad0e6310",
   "metadata": {},
   "outputs": [
    {
     "name": "stdin",
     "output_type": "stream",
     "text": [
      "Enter a sentence:  The quick brown fox jumps over the lazy dog.\n"
     ]
    },
    {
     "name": "stdout",
     "output_type": "stream",
     "text": [
      "The longest word in the sentence is: quick\n"
     ]
    }
   ],
   "source": [
    "sentence = input(\"Enter a sentence: \")\n",
    "words = sentence.split()\n",
    "longest_word = max(words, key=lambda word: len(word))\n",
    "print(f\"The longest word in the sentence is: {longest_word}\")"
   ]
  },
  {
   "cell_type": "code",
   "execution_count": 26,
   "id": "ede84cee-f56d-4313-bb52-1fb2c0306ac5",
   "metadata": {},
   "outputs": [],
   "source": [
    "#challenge Q.38 Create a program that filters a list of strings to include only those with more than three vowels using list comprehension."
   ]
  },
  {
   "cell_type": "code",
   "execution_count": 28,
   "id": "a0198e95-90b1-4075-937a-c484cde84f4c",
   "metadata": {},
   "outputs": [
    {
     "name": "stdout",
     "output_type": "stream",
     "text": [
      "Original List of Strings: ['roselin', 'is', 'an', 'example', 'of', 'beauty', 'with', 'brain']\n",
      "Filtered List with More than Three Vowels: []\n"
     ]
    }
   ],
   "source": [
    "def count_vowels(string):\n",
    "    vowels = \"AEIOUaeiou\"\n",
    "    return sum(1 for char in string if char in vowels)\n",
    "\n",
    "string_list = [\"roselin\", \"is\", \"an\", \"example\", \"of\", \"beauty\", \"with\",\"brain\"]\n",
    "filtered_strings = [string for string in string_list if count_vowels(string) > 3]\n",
    "\n",
    "print(\"Original List of Strings:\", string_list)\n",
    "print(\"Filtered List with More than Three Vowels:\", filtered_strings)"
   ]
  },
  {
   "cell_type": "code",
   "execution_count": 29,
   "id": "fbdd2a71-e213-4979-ae15-10224381538f",
   "metadata": {},
   "outputs": [],
   "source": [
    "#challenge Q.39 Develop a program that calculates the sum of the digits of numbers from 1 to 1000 using list comprehension."
   ]
  },
  {
   "cell_type": "code",
   "execution_count": 30,
   "id": "e9ec8051-5027-4a68-a26e-27dba32b328c",
   "metadata": {},
   "outputs": [
    {
     "name": "stdout",
     "output_type": "stream",
     "text": [
      "The sum of the digits of numbers from 1 to 1000 is: 13501\n"
     ]
    }
   ],
   "source": [
    "def digit_sum(number):\n",
    "    return sum(int(digit) for digit in str(number))\n",
    "\n",
    "digit_sums = [digit_sum(n) for n in range(1, 1001)]\n",
    "\n",
    "# Calculate the overall sum of digit sums\n",
    "total_sum = sum(digit_sums)\n",
    "\n",
    "# total sum\n",
    "print(\"The sum of the digits of numbers from 1 to 1000 is:\", total_sum)"
   ]
  },
  {
   "cell_type": "code",
   "execution_count": 31,
   "id": "260c1fda-f800-488c-af50-3a9fa3467e91",
   "metadata": {},
   "outputs": [],
   "source": [
    "#challenge Q. 40 Write a program that generates a list of prime palindromic numbers using list comprehension."
   ]
  },
  {
   "cell_type": "code",
   "execution_count": 32,
   "id": "223663b7-2306-4185-8d5c-0b4565db7171",
   "metadata": {},
   "outputs": [
    {
     "name": "stdout",
     "output_type": "stream",
     "text": [
      "Prime Palindromic Numbers up to 100: [2, 3, 5, 7, 11]\n"
     ]
    }
   ],
   "source": [
    "# to check if a number is prime\n",
    "def is_prime(number):\n",
    "    if number < 2:\n",
    "        return False\n",
    "    for i in range(2, int(number**0.5) + 1):\n",
    "        if number % i == 0:\n",
    "            return False\n",
    "    return True\n",
    "\n",
    "# to check if a number is palindromic\n",
    "def is_palindromic(number):\n",
    "    return str(number) == str(number)[::-1]\n",
    "\n",
    "# Generate a list of prime palindromic numbers using list comprehension\n",
    "prime_palindromic_numbers = [n for n in range(2, 100) if is_prime(n) and is_palindromic(n)]\n",
    "\n",
    "# Print the list of prime palindromic numbers\n",
    "print(\"Prime Palindromic Numbers up to 100:\", prime_palindromic_numbers)"
   ]
  },
  {
   "cell_type": "code",
   "execution_count": null,
   "id": "bd7c838b-2976-4b22-8d90-900039cc39c7",
   "metadata": {},
   "outputs": [],
   "source": []
  }
 ],
 "metadata": {
  "kernelspec": {
   "display_name": "Python 3 (ipykernel)",
   "language": "python",
   "name": "python3"
  },
  "language_info": {
   "codemirror_mode": {
    "name": "ipython",
    "version": 3
   },
   "file_extension": ".py",
   "mimetype": "text/x-python",
   "name": "python",
   "nbconvert_exporter": "python",
   "pygments_lexer": "ipython3",
   "version": "3.10.8"
  }
 },
 "nbformat": 4,
 "nbformat_minor": 5
}
